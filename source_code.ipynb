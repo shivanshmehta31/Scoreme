{
  "nbformat": 4,
  "nbformat_minor": 0,
  "metadata": {
    "colab": {
      "provenance": []
    },
    "kernelspec": {
      "name": "python3",
      "display_name": "Python 3"
    },
    "language_info": {
      "name": "python"
    }
  },
  "cells": [
    {
      "cell_type": "code",
      "source": [
        "pip install PyPDF2 pandas openpyxl"
      ],
      "metadata": {
        "colab": {
          "base_uri": "https://localhost:8080/"
        },
        "id": "amfO62_FSDPj",
        "outputId": "c7c39b72-9273-463f-8db1-19c25456a6c6"
      },
      "execution_count": 98,
      "outputs": [
        {
          "output_type": "stream",
          "name": "stdout",
          "text": [
            "Requirement already satisfied: PyPDF2 in /usr/local/lib/python3.11/dist-packages (3.0.1)\n",
            "Requirement already satisfied: pandas in /usr/local/lib/python3.11/dist-packages (2.2.2)\n",
            "Requirement already satisfied: openpyxl in /usr/local/lib/python3.11/dist-packages (3.1.5)\n",
            "Requirement already satisfied: numpy>=1.23.2 in /usr/local/lib/python3.11/dist-packages (from pandas) (2.0.2)\n",
            "Requirement already satisfied: python-dateutil>=2.8.2 in /usr/local/lib/python3.11/dist-packages (from pandas) (2.8.2)\n",
            "Requirement already satisfied: pytz>=2020.1 in /usr/local/lib/python3.11/dist-packages (from pandas) (2025.1)\n",
            "Requirement already satisfied: tzdata>=2022.7 in /usr/local/lib/python3.11/dist-packages (from pandas) (2025.1)\n",
            "Requirement already satisfied: et-xmlfile in /usr/local/lib/python3.11/dist-packages (from openpyxl) (2.0.0)\n",
            "Requirement already satisfied: six>=1.5 in /usr/local/lib/python3.11/dist-packages (from python-dateutil>=2.8.2->pandas) (1.17.0)\n"
          ]
        }
      ]
    },
    {
      "cell_type": "code",
      "source": [
        "import re\n",
        "import pandas as pd\n",
        "from PyPDF2 import PdfReader"
      ],
      "metadata": {
        "id": "ML_5cdarVVcm"
      },
      "execution_count": 99,
      "outputs": []
    },
    {
      "cell_type": "code",
      "source": [
        "def extract_text_from_pdf(pdf_path):\n",
        "    text = \"\"\n",
        "    with open(pdf_path, 'rb') as file:\n",
        "        reader = PdfReader(file)\n",
        "        for page in reader.pages:\n",
        "            text += page.extract_text() + \"\\n\"\n",
        "    return text"
      ],
      "metadata": {
        "id": "QqRfQ_l2YvWy"
      },
      "execution_count": 100,
      "outputs": []
    },
    {
      "cell_type": "code",
      "source": [
        "def process_transaction_table(text):\n",
        "    transaction_records = []\n",
        "    pattern = re.compile(\n",
        "        r'(\\d{2}-[A-Za-z]{3}-\\d{4})\\s+'\n",
        "        r'([A-Z].*?)\\s+'\n",
        "        r'([\\d,]+\\.\\d{2}[A-Za-z]*)\\s+'\n",
        "        r'([\\d,]+\\.\\d{2}[A-Za-z]*)'\n",
        "    )\n",
        "\n",
        "    matches = pattern.findall(text)\n",
        "    for match in matches:\n",
        "        transaction_records.append({\n",
        "            'Date': match[0],\n",
        "            'Description': match[1].strip(),\n",
        "            'Amount': match[2],\n",
        "            'Balance': match[3]\n",
        "        })\n",
        "\n",
        "    return transaction_records"
      ],
      "metadata": {
        "id": "YaFFe9SHWhf9"
      },
      "execution_count": 101,
      "outputs": []
    },
    {
      "cell_type": "code",
      "source": [
        "def process_account_info(text):\n",
        "    account_info = {}\n",
        "\n",
        "    info_pattern = re.compile(\n",
        "        r'([A-Za-z/ ]+)\\s*:\\s*([^\\n]+)'\n",
        "    )\n",
        "\n",
        "    matches = info_pattern.findall(text)\n",
        "    for match in matches:\n",
        "        key = match[0].strip()\n",
        "        value = match[1].strip()\n",
        "        account_info[key] = value\n",
        "\n",
        "    return account_info"
      ],
      "metadata": {
        "id": "qb2CKC0qWkC7"
      },
      "execution_count": 102,
      "outputs": []
    },
    {
      "cell_type": "code",
      "source": [
        "def extract_data_from_pdf(pdf_path):\n",
        "    text = extract_text_from_pdf(pdf_path)\n",
        "\n",
        "    account_info = process_account_info(text)\n",
        "\n",
        "    transactions = process_transaction_table(text)\n",
        "\n",
        "    return {\n",
        "        'account_info': account_info,\n",
        "        'transactions': transactions\n",
        "    }"
      ],
      "metadata": {
        "id": "SNEW-upFW9AG"
      },
      "execution_count": 103,
      "outputs": []
    },
    {
      "cell_type": "code",
      "source": [
        "def save_to_excel(data, output_path):\n",
        "    with pd.ExcelWriter(output_path) as writer:\n",
        "\n",
        "        account_df = pd.DataFrame.from_dict(data['account_info'], orient='index', columns=['Value'])\n",
        "        account_df.to_excel(writer, sheet_name='Account Info')\n",
        "\n",
        "        trans_df = pd.DataFrame(data['transactions'])\n",
        "        trans_df.to_excel(writer, sheet_name='Transactions', index=False)"
      ],
      "metadata": {
        "id": "9qUuSB5MXJU8"
      },
      "execution_count": 104,
      "outputs": []
    },
    {
      "cell_type": "code",
      "source": [
        "if __name__ == \"__main__\":\n",
        "    input_pdf = \"test3 (1).pdf\"\n",
        "    output_excel = \"test3_output.xlsx\"\n",
        "\n",
        "    extracted_data = extract_data_from_pdf(input_pdf)\n",
        "    save_to_excel(extracted_data, output_excel)\n",
        "\n",
        "    print(f\"Successfully extracted data and saved to {output_excel}\")"
      ],
      "metadata": {
        "colab": {
          "base_uri": "https://localhost:8080/"
        },
        "id": "YuDTx-61XLxd",
        "outputId": "32fa1b99-181e-4b0c-df30-414ae23f6f35"
      },
      "execution_count": 105,
      "outputs": [
        {
          "output_type": "stream",
          "name": "stdout",
          "text": [
            "Successfully extracted data and saved to test3_output.xlsx\n"
          ]
        }
      ]
    },
    {
      "cell_type": "code",
      "source": [],
      "metadata": {
        "id": "yHiMkXSka-u4"
      },
      "execution_count": 105,
      "outputs": []
    }
  ]
}